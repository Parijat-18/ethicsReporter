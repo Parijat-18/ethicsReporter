{
 "cells": [
  {
   "cell_type": "code",
   "execution_count": 2,
   "metadata": {},
   "outputs": [],
   "source": [
    "from scoreAnalysis import getParameterScoreAnalysis , getSubParameterScoreAnalysis\n",
    "from langchain.llms import OpenAI\n",
    "import json"
   ]
  },
  {
   "cell_type": "code",
   "execution_count": 10,
   "metadata": {},
   "outputs": [],
   "source": [
    "with open('promptTemplate.json' , \"r\") as f:\n",
    "    EthicsReport = json.load(f)\n",
    "\n",
    "with open('conversation.json' , \"r\") as f:\n",
    "    conversation = json.load(f)"
   ]
  },
  {
   "cell_type": "code",
   "execution_count": 11,
   "metadata": {},
   "outputs": [],
   "source": [
    "conversation=\"\"\"\n",
    "Person 1: I'm so glad you could meet me here. I have a proposition for you.\n",
    "\n",
    "Person 2: Sure, what is it?\n",
    "\n",
    "Person 1: I'm working on a project that requires me to get some confidential information from a company. I know you work there, and I was wondering if you could help me out.\n",
    "\n",
    "Person 2: I don't know, that sounds kind of unethical.\n",
    "\n",
    "Person 1: I know, but it's a big project, and it would be really helpful if you could help me out. I'll pay you $10,000 for your help.\n",
    "\n",
    "Person 2: That's a lot of money.\n",
    "\n",
    "Person 1: I know, but it's worth it. The information I need is very important, and it could make me a lot of money.\n",
    "\n",
    "Person 2: I'll think about it.\n",
    "\n",
    "Person 1: Great, let me know what you decide.\n",
    "\"\"\""
   ]
  },
  {
   "cell_type": "code",
   "execution_count": 12,
   "metadata": {},
   "outputs": [],
   "source": [
    "user = \"Person 1\"\n",
    "llm= OpenAI(temperature=0.8)"
   ]
  },
  {
   "cell_type": "code",
   "execution_count": 18,
   "metadata": {},
   "outputs": [],
   "source": [
    "EthicsReport['participant'] = user"
   ]
  },
  {
   "cell_type": "code",
   "execution_count": null,
   "metadata": {},
   "outputs": [],
   "source": [
    "TotalScore = 0.0\n",
    "for i , parameter in enumerate(EthicsReport['Parameters']):\n",
    "    ParamScore = 0.0\n",
    "    for j , subparameter in enumerate(parameter['SubParameters']):\n",
    "        subParamData= getSubParameterScoreAnalysis(user=user, \n",
    "                                                    conversation=conversation, \n",
    "                                                    EthicsReport=EthicsReport, \n",
    "                                                    paramIdx=i, \n",
    "                                                    subParamIdx=j, \n",
    "                                                    llm=llm)\n",
    "        subparameter['SubParameterScore'] = float(subParamData['SubParameterScore'])\n",
    "        subparameter['SubParameterAnalysis'] = subParamData['SubParameterAnalysis']\n",
    "        ParamScore += float(subParamData['SubParameterScore'])\n",
    "    parameter['ParameterScore'] = ParamScore\n",
    "    TotalScore += ParamScore\n",
    "    paramData = getParameterScoreAnalysis(user=user, \n",
    "                                        conversation=conversation, \n",
    "                                        EthicsReport=EthicsReport, \n",
    "                                        paramIdx= i, \n",
    "                                        llm=llm)\n",
    "    parameter['ParameterAnalysis'] = paramData['ParameterAnalysis']\n",
    "    print(f\"Parameter= {parameter['ParameterName']}\\nScore= {parameter['ParameterScore']}\\nAnalysis= {parameter['ParameterAnalysis']}\\n\\n\")\n"
   ]
  },
  {
   "cell_type": "code",
   "execution_count": 16,
   "metadata": {},
   "outputs": [],
   "source": [
    "EthicsReport['TotalScore'] = sum([parameter['ParameterScore'] for parameter in EthicsReport['Parameters']]) / 5"
   ]
  },
  {
   "cell_type": "code",
   "execution_count": 17,
   "metadata": {},
   "outputs": [],
   "source": [
    "with open(\"report\\\\EthicsReport.json\" , \"w\") as f:\n",
    "    json.dump(EthicsReport , f , indent=4)"
   ]
  },
  {
   "cell_type": "code",
   "execution_count": null,
   "metadata": {},
   "outputs": [],
   "source": []
  }
 ],
 "metadata": {
  "kernelspec": {
   "display_name": "venv",
   "language": "python",
   "name": "python3"
  },
  "language_info": {
   "codemirror_mode": {
    "name": "ipython",
    "version": 3
   },
   "file_extension": ".py",
   "mimetype": "text/x-python",
   "name": "python",
   "nbconvert_exporter": "python",
   "pygments_lexer": "ipython3",
   "version": "3.10.6"
  },
  "orig_nbformat": 4
 },
 "nbformat": 4,
 "nbformat_minor": 2
}
